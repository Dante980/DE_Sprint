{
 "cells": [
  {
   "cell_type": "code",
   "execution_count": null,
   "metadata": {},
   "outputs": [],
   "source": [
    "import pandas as pd\n",
    "# задача 1 - достать дынне\n",
    "our_csv = pd.read_csv(\"ds_salaries.csv\", delimiter=\",\")\n",
    "# our_csv = our_csv.drop(our_csv.columns[[0]], axis=1)\n",
    "print(our_csv)"
   ]
  },
  {
   "cell_type": "code",
   "execution_count": null,
   "metadata": {},
   "outputs": [],
   "source": [
    "# задача 2 - сгруппировать по направлениям\n",
    "job_title_list = our_csv.job_title.unique()\n",
    "print (job_title_list)\n",
    "'''\n",
    "                            # подзадача - привести все зарплаты в рубли\n",
    "                            currency = {'EUR':59.01,  'USD':60.20, 'GBP':67.12, 'HUF':0.14, 'INR':0.74, 'JPY':0.42,\n",
    "                                'CNY':8.46, 'MXN':2.99, 'CAD':43.52, 'DKK':7.93, 'PLN':12.16, 'SGD':42.04, 'CLP':0.062, \n",
    "                                'BRL':11.12, 'TRY':3.25, 'AUD':38.52, 'CHF':60.89}\n",
    "                            our_csv[\"RUB_\"] = our_csv[\"salary_currency\"].map(currency)\n",
    "\n",
    "                            our_csv[\"RUB_SALAEY\"] = our_csv[\"salary\"] * our_csv[\"RUB_\"]\n",
    "                            # print(our_csv[\"RUB_SALAEY\"])\n",
    "'''"
   ]
  },
  {
   "cell_type": "code",
   "execution_count": null,
   "metadata": {},
   "outputs": [],
   "source": [
    "# задача 3 - средняя и медианная зарплата по группам вакансий в \n",
    "agg_functions = {\"salary_in_usd\" : ['mean', 'median']}\n",
    "temp_df = our_csv.groupby(\"job_title\").agg(agg_functions).round(2)\n",
    "print(temp_df)"
   ]
  },
  {
   "cell_type": "code",
   "execution_count": null,
   "metadata": {},
   "outputs": [],
   "source": [
    "# задача 4 - средняя и медианная зарплата по регионам\n",
    "agg_functions = {\"salary_in_usd\" : ['mean', 'median']}\n",
    "temp_df = our_csv.groupby(\"company_location\").agg(agg_functions).round(2)\n",
    "print(temp_df)"
   ]
  },
  {
   "cell_type": "code",
   "execution_count": null,
   "metadata": {},
   "outputs": [],
   "source": [
    "# задача 5 - самая высокооплачиваемая группа вакансий\n",
    "agg_functions = {\"salary_in_usd\" : 'mean'}\n",
    "temp_df = our_csv.groupby(\"job_title\").mean() \n",
    "# print(temp_df)\n",
    "temp_df = temp_df[\"salary_in_usd\"]\n",
    "print(temp_df[temp_df == temp_df.max()])"
   ]
  },
  {
   "cell_type": "code",
   "execution_count": null,
   "metadata": {},
   "outputs": [],
   "source": [
    "# задача 6 - процентное соотношение каждого региона по вакансиям от всех вакансий\n",
    "print(our_csv.groupby('company_location').size() / len(our_csv) * 100)"
   ]
  },
  {
   "cell_type": "code",
   "execution_count": null,
   "metadata": {},
   "outputs": [],
   "source": [
    "# задача 7 - корреляция уровня опыта от зарплаты \n",
    "\n",
    "temp_df = our_csv[[\"experience_level\", \"salary_in_usd\"]]\n",
    "currency = {'MI':1, 'SE':2, 'EN':3, 'EX':4}\n",
    "our_csv[\"T1\"] = our_csv[\"experience_level\"].map(currency)\n",
    "temp_df = our_csv[[\"salary_in_usd\", \"T1\"]]\n",
    "# print(our_csv.experience_level.unique())\n",
    "# temp_df.plot.scatter(x=\"experience_level\", y=\"salary_in_usd\")\n",
    "print(temp_df[\"salary_in_usd\"].corr(temp_df[\"T1\"]))\n"
   ]
  },
  {
   "cell_type": "code",
   "execution_count": null,
   "metadata": {},
   "outputs": [],
   "source": [
    "# задача 8 - сколько должностей в наборе\n",
    "print(len(our_csv.job_title.unique()))"
   ]
  },
  {
   "cell_type": "code",
   "execution_count": 20,
   "metadata": {},
   "outputs": [
    {
     "name": "stdout",
     "output_type": "stream",
     "text": [
      "                     job_title  Unnamed: 0\n",
      "22              Data Scientist         143\n",
      "17               Data Engineer         132\n",
      "12                Data Analyst          97\n",
      "38   Machine Learning Engineer          41\n",
      "48          Research Scientist          16\n",
      "21        Data Science Manager          12\n",
      "16              Data Architect          11\n",
      "7            Big Data Engineer           8\n",
      "41  Machine Learning Scientist           8\n",
      "25    Director of Data Science           7\n"
     ]
    }
   ],
   "source": [
    "# какие 9 наиболее встречающихся должностей\n",
    "agg_functions = {\"Unnamed: 0\" : 'count'}\n",
    "print(our_csv.groupby(\"job_title\", as_index=False).agg(agg_functions).sort_values(\"Unnamed: 0\", ascending=False).head(10))\n"
   ]
  }
 ],
 "metadata": {
  "kernelspec": {
   "display_name": "Python 3.10.5 64-bit",
   "language": "python",
   "name": "python3"
  },
  "language_info": {
   "codemirror_mode": {
    "name": "ipython",
    "version": 3
   },
   "file_extension": ".py",
   "mimetype": "text/x-python",
   "name": "python",
   "nbconvert_exporter": "python",
   "pygments_lexer": "ipython3",
   "version": "3.10.5"
  },
  "orig_nbformat": 4,
  "vscode": {
   "interpreter": {
    "hash": "afb734500600fd355917ca529030176ea0ca205570884b88f2f6f7d791fd3fbe"
   }
  }
 },
 "nbformat": 4,
 "nbformat_minor": 2
}
